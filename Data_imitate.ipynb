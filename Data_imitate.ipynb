{
 "cells": [
  {
   "cell_type": "markdown",
   "id": "257a2c3f",
   "metadata": {},
   "source": [
    "# 查看 Imitate data.npz 文件"
   ]
  },
  {
   "cell_type": "code",
   "execution_count": 1,
   "id": "4e3e6c2a",
   "metadata": {},
   "outputs": [],
   "source": [
    "import numpy as np\n",
    "import matplotlib.pyplot as plt"
   ]
  },
  {
   "cell_type": "code",
   "execution_count": 2,
   "id": "cfbe0d81",
   "metadata": {},
   "outputs": [
    {
     "name": "stdout",
     "output_type": "stream",
     "text": [
      "KeysView(NpzFile './RL/2025-09-15_10-40-03/data.npz' with keys: goals, rewards)\n",
      "(405504, 9)\n"
     ]
    }
   ],
   "source": [
    "imitate_data = np.load(\"./RL/2025-09-15_10-40-03/data.npz\")\n",
    "print(imitate_data.keys())\n",
    "print(imitate_data['goals'].shape)"
   ]
  },
  {
   "cell_type": "code",
   "execution_count": 3,
   "id": "9c517fa5",
   "metadata": {},
   "outputs": [
    {
     "data": {
      "text/plain": [
       "array([ 0.6862139 ,  0.03355805,  0.35198578,  0.15182894, -0.20682216,\n",
       "       -0.04260869, -0.00501577, -0.02188437, -1.0402449 ], dtype=float32)"
      ]
     },
     "execution_count": 3,
     "metadata": {},
     "output_type": "execute_result"
    }
   ],
   "source": [
    "imitate_data['goals'][2048*50]\n",
    "\n",
    "# Goals\n",
    "# Vx Vy Vz Wx Wy Wz Gx Gy Gz"
   ]
  },
  {
   "cell_type": "code",
   "execution_count": 4,
   "id": "9b1f4a12",
   "metadata": {},
   "outputs": [
    {
     "data": {
      "image/png": "[encoded data removed]",
      "text/plain": [
       "<Figure size 640x480 with 1 Axes>"
      ]
     },
     "metadata": {},
     "output_type": "display_data"
    }
   ],
   "source": [
    "x = range(0,9)\n",
    "goals = imitate_data['goals']\n",
    "\n",
    "\n",
    "plt.figure()\n",
    "for i in range(goals.shape[0] - 2000, goals.shape[0]):\n",
    "    plt.plot(x, goals[i], color='gray', alpha=0.1)\n",
    "plt.grid()\n",
    "plt.axis('equal')\n",
    "plt.show()\n"
   ]
  },
  {
   "cell_type": "markdown",
   "id": "409c92c5",
   "metadata": {},
   "source": [
    "# 查看 data.npz + model.pt 文件"
   ]
  },
  {
   "cell_type": "code",
   "execution_count": 8,
   "id": "475438c0",
   "metadata": {},
   "outputs": [
    {
     "name": "stdout",
     "output_type": "stream",
     "text": [
      "actions (250, 400, 12)\n",
      "obs (250, 400, 45)\n",
      "goals (250, 400, 9)\n",
      "rewards (250, 400)\n",
      "obs_raw (250, 400, 45)\n",
      "goals_raw (250, 400, 9)\n",
      "goals_next (250, 400, 9)\n",
      "Zs_B_tensor (250, 400, 50)\n"
     ]
    }
   ],
   "source": [
    "import numpy as np\n",
    "import torch\n",
    "import os\n",
    "import sys\n",
    "\n",
    "sys.path.append(os.path.join(\"/home/jiajun_hu/Documents/fb_hw/scripts/reinforcement_learning/fb/url_benchmark\"))\n",
    "sys.path.append(os.path.join(\"/home/jiajun_hu/Documents/fb_hw/scripts/reinforcement_learning/fb/\"))\n",
    "\n",
    "data = np.load(\"/home/jiajun_hu/Documents/fb_hw/exp_local/fb_ddpg/Isaac-Velocity-Flat-Unitree-Go2-Direct-Norm-v0/09-24_14-24_Pretrain_1024_test_obs_logic/09-24_15-52-56_contact_collect/data.npz\")\n",
    "net  = torch.load(\"/home/jiajun_hu/Documents/fb_hw/exp_local/fb_ddpg/Isaac-Velocity-Flat-Unitree-Go2-Direct-Norm-v0/09-24_14-24_Pretrain_1024_test_obs_logic/models/snapshot_step140000.pt\", weights_only=False)\n",
    "\n",
    "for key in data.keys():\n",
    "    print(key, data[key].shape)"
   ]
  },
  {
   "cell_type": "code",
   "execution_count": 35,
   "id": "0379bb54",
   "metadata": {},
   "outputs": [
    {
     "name": "stdout",
     "output_type": "stream",
     "text": [
      "dict_keys(['agent', 'global_step', 'obs_normalizer'])\n",
      "<bound method FBDDPGAgent.act of <url_benchmark.agent.fb_ddpg.FBDDPGAgent object at 0x7d0aa05db790>>\n"
     ]
    }
   ],
   "source": [
    "print(net.keys())    # \"agent\" 参数占据了大部分储存空间\n",
    "\n",
    "agent = net[\"agent\"]\n",
    "print(agent.act)\n",
    "# print(agent.backward_net)"
   ]
  },
  {
   "cell_type": "code",
   "execution_count": null,
   "id": "202ef579",
   "metadata": {},
   "outputs": [
    {
     "name": "stdout",
     "output_type": "stream",
     "text": [
      "file size = 117.00 MB\n"
     ]
    }
   ],
   "source": [
    "# 文件大小打印函数\n",
    "def print_size(path):\n",
    "    size_bytes = os.path.getsize(path)\n",
    "    size_mb = size_bytes / (1024 * 1024)\n",
    "    print(f\"file size = {size_mb:.2f} MB\")\n",
    "\n",
    "print_size(\"/home/jiajun_hu/Documents/fb_hw/exp_local/fb_ddpg/Isaac-Velocity-Flat-Unitree-Go2-Direct-Norm-v0/09-24_14-24_Pretrain_1024_test_obs_logic/models/snapshot_step140000.pt\")   "
   ]
  },
  {
   "cell_type": "code",
   "execution_count": null,
   "id": "364b4327",
   "metadata": {},
   "outputs": [
    {
     "name": "stdout",
     "output_type": "stream",
     "text": [
      "dict_keys(['obs_normalizer', 'act', 'Zs_B_tensor'])\n",
      "file size = 145.68 MB\n"
     ]
    }
   ],
   "source": [
    "filtered_net_model = {}\n",
    "# filtered_net_model[\"agent\"] = net[\"agent\"]\n",
    "filtered_net_model[\"obs_normalizer\"] = net[\"obs_normalizer\"]\n",
    "filtered_net_model[\"act\"] = net[\"agent\"].act                    # 这个 act 函数占了 90% 的空间\n",
    "filtered_net_model[\"Zs_B_tensor\"] = data[\"Zs_B_tensor\"]\n",
    "\n",
    "save_path = \"/home/jiajun_hu/Documents/FB_Projects/Data_Analysis/save_model_test/filtered.pt\"\n",
    "torch.save(filtered_net_model, save_path)\n",
    "\n",
    "print(filtered_net_model.keys())\n",
    "print_size(save_path)"
   ]
  },
  {
   "cell_type": "markdown",
   "id": "7ead7340",
   "metadata": {},
   "source": [
    "# 老版本数据整合"
   ]
  },
  {
   "cell_type": "code",
   "execution_count": 47,
   "id": "19a1ac0e",
   "metadata": {},
   "outputs": [
    {
     "name": "stdout",
     "output_type": "stream",
     "text": [
      "dict_keys(['agent', 'obs_normalizer', 'obs_raw', 'goals_next', 'Zs_B_tensor'])\n",
      "file size = 176.50 MB\n"
     ]
    }
   ],
   "source": [
    "import torch\n",
    "import numpy as np\n",
    "import os\n",
    "import sys\n",
    "\n",
    "sys.path.append(os.path.join(\"/home/jiajun_hu/Documents/fb_hw/scripts/reinforcement_learning/fb/url_benchmark\"))\n",
    "sys.path.append(os.path.join(\"/home/jiajun_hu/Documents/fb_hw/scripts/reinforcement_learning/fb/\"))\n",
    "\n",
    "save_path = \"/home/jiajun_hu/Documents/FB_Hardware_Workspace/src/vanillarl-unitree-ros/vanillarl_unitree_python/vanillarl_unitree_python/models/go2_FB/09-24_14-24_Pretrain_1024_test_obs_logic/inference_model.pt\"\n",
    "net_path  = \"/home/jiajun_hu/Documents/FB_Hardware_Workspace/src/vanillarl-unitree-ros/vanillarl_unitree_python/vanillarl_unitree_python/models/go2_FB/09-24_14-24_Pretrain_1024_test_obs_logic/snapshot_step140000.pt\"\n",
    "data_path = \"/home/jiajun_hu/Documents/FB_Hardware_Workspace/src/vanillarl-unitree-ros/vanillarl_unitree_python/vanillarl_unitree_python/models/go2_FB/09-24_14-24_Pretrain_1024_test_obs_logic/data.npz\"\n",
    "\n",
    "net  = torch.load(net_path, weights_only=False)\n",
    "data = np.load(data_path)\n",
    "\n",
    "save_model={}\n",
    "save_model[\"agent\"] = net[\"agent\"]\n",
    "save_model[\"obs_normalizer\"] = net[\"obs_normalizer\"]\n",
    "save_model[\"obs_raw\"] = data[\"obs_raw\"]\n",
    "save_model[\"goals_next\"] = data[\"goals_next\"]\n",
    "save_model[\"Zs_B_tensor\"] = data[\"Zs_B_tensor\"]\n",
    "\n",
    "torch.save(save_model, save_path)\n",
    "\n",
    "print(save_model.keys())\n",
    "print_size(save_path)"
   ]
  }
 ],
 "metadata": {
  "kernelspec": {
   "display_name": "env_isaaclab",
   "language": "python",
   "name": "python3"
  },
  "language_info": {
   "codemirror_mode": {
    "name": "ipython",
    "version": 3
   },
   "file_extension": ".py",
   "mimetype": "text/x-python",
   "name": "python",
   "nbconvert_exporter": "python",
   "pygments_lexer": "ipython3",
   "version": "3.10.18"
  }
 },
 "nbformat": 4,
 "nbformat_minor": 5
}
